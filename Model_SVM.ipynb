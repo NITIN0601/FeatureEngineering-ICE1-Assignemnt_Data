{
  "nbformat": 4,
  "nbformat_minor": 2,
  "metadata": {
    "kernelspec": {
      "display_name": "Python 3",
      "language": "python",
      "name": "python3"
    },
    "language_info": {
      "codemirror_mode": {
        "name": "ipython",
        "version": 3
      },
      "file_extension": ".py",
      "mimetype": "text/x-python",
      "name": "python",
      "nbconvert_exporter": "python",
      "pygments_lexer": "ipython3",
      "version": "3.7.1"
    },
    "colab": {
      "name": "04. Model- SVM.ipynb",
      "provenance": [],
      "collapsed_sections": []
    },
    "accelerator": "GPU"
  },
  "cells": [
    {
      "cell_type": "markdown",
      "source": [
        "# Support Vector Machine"
      ],
      "metadata": {
        "id": "XmVd_CqsN_id"
      }
    },
    {
      "cell_type": "code",
      "execution_count": null,
      "source": [
        "import pickle\n",
        "import numpy as np\n",
        "from sklearn.feature_extraction.text import TfidfVectorizer\n",
        "from sklearn import svm\n",
        "from pprint import pprint\n",
        "from sklearn.model_selection import RandomizedSearchCV\n",
        "from sklearn.model_selection import GridSearchCV\n",
        "from sklearn.metrics import classification_report, confusion_matrix, accuracy_score\n",
        "from sklearn.model_selection import ShuffleSplit\n",
        "import matplotlib.pyplot as plt\n",
        "import seaborn as sns\n",
        "import pandas as pd"
      ],
      "outputs": [],
      "metadata": {
        "id": "FjjKGX_fN_ig"
      }
    },
    {
      "cell_type": "markdown",
      "source": [
        "First, we load the data:\n",
        "\n"
      ],
      "metadata": {
        "id": "zsIKgvurN_ii"
      }
    },
    {
      "cell_type": "code",
      "execution_count": null,
      "source": [
        "from google.colab import drive\n",
        "drive.mount('/content/drive')"
      ],
      "outputs": [
        {
          "output_type": "stream",
          "name": "stdout",
          "text": [
            "Mounted at /content/drive\n"
          ]
        }
      ],
      "metadata": {
        "colab": {
          "base_uri": "https://localhost:8080/"
        },
        "id": "w9DZkYZoQ7iQ",
        "outputId": "62ef1127-18a7-4417-b5d1-59f8824208b9"
      }
    },
    {
      "cell_type": "code",
      "execution_count": null,
      "source": [
        "pathcolab = '/content/drive/MyDrive/AI Projects/Feature Engineering/ICE 1/Assignemnt_data/dataset.csv/Pickles/'\n",
        "\n",
        "# Dataframe\n",
        "path_df = \"df.pickle\"\n",
        "with open(pathcolab+path_df, 'rb') as data:\n",
        "    df = pickle.load(data)\n",
        "\n",
        "# features_train\n",
        "path_features_train = \"features_train.pickle\"\n",
        "with open(pathcolab+path_features_train, 'rb') as data:\n",
        "    features_train = pickle.load(data)\n",
        "\n",
        "# labels_train\n",
        "path_labels_train = \"labels_train.pickle\"\n",
        "with open(pathcolab+path_labels_train, 'rb') as data:\n",
        "    labels_train = pickle.load(data)\n",
        "\n",
        "# features_test\n",
        "path_features_test = \"features_test.pickle\"\n",
        "with open(pathcolab+path_features_test, 'rb') as data:\n",
        "    features_test = pickle.load(data)\n",
        "\n",
        "# labels_test\n",
        "path_labels_test = \"labels_test.pickle\"\n",
        "with open(pathcolab+path_labels_test, 'rb') as data:\n",
        "    labels_test = pickle.load(data)"
      ],
      "outputs": [],
      "metadata": {
        "id": "Od19AwGSN_ii"
      }
    },
    {
      "cell_type": "markdown",
      "source": [
        "Let's check the dimension of our feature vectors:"
      ],
      "metadata": {
        "id": "KxNMDz-FN_ij"
      }
    },
    {
      "cell_type": "code",
      "execution_count": null,
      "source": [
        "print(features_train.shape)\n",
        "print(features_test.shape)"
      ],
      "outputs": [
        {
          "output_type": "stream",
          "name": "stdout",
          "text": [
            "(1891, 300)\n",
            "(334, 300)\n"
          ]
        }
      ],
      "metadata": {
        "colab": {
          "base_uri": "https://localhost:8080/"
        },
        "id": "0A0bwqYvN_ij",
        "outputId": "9429db81-8333-4c55-ee2f-15cdaa425e42"
      }
    },
    {
      "cell_type": "markdown",
      "source": [
        "## Cross-Validation for Hyperparameter tuning"
      ],
      "metadata": {
        "id": "vnOIzb_WN_il"
      }
    },
    {
      "cell_type": "markdown",
      "source": [
        "First, we can see what hyperparameters the model has:"
      ],
      "metadata": {
        "id": "2SCPDPMKN_im"
      }
    },
    {
      "cell_type": "code",
      "execution_count": null,
      "source": [
        "svc_0 =svm.SVC(random_state=8)\n",
        "\n",
        "print('Parameters currently in use:\\n')\n",
        "pprint(svc_0.get_params())"
      ],
      "outputs": [
        {
          "output_type": "stream",
          "name": "stdout",
          "text": [
            "Parameters currently in use:\n",
            "\n",
            "{'C': 1.0,\n",
            " 'break_ties': False,\n",
            " 'cache_size': 200,\n",
            " 'class_weight': None,\n",
            " 'coef0': 0.0,\n",
            " 'decision_function_shape': 'ovr',\n",
            " 'degree': 3,\n",
            " 'gamma': 'scale',\n",
            " 'kernel': 'rbf',\n",
            " 'max_iter': -1,\n",
            " 'probability': False,\n",
            " 'random_state': 8,\n",
            " 'shrinking': True,\n",
            " 'tol': 0.001,\n",
            " 'verbose': False}\n"
          ]
        }
      ],
      "metadata": {
        "colab": {
          "base_uri": "https://localhost:8080/"
        },
        "id": "VG8Gt1VPN_im",
        "outputId": "bc6507c2-f39d-468f-fa80-ce7168a2c396"
      }
    },
    {
      "cell_type": "markdown",
      "source": [
        "We'll tune the following ones:\n",
        "\n",
        "* `C`: Penalty parameter C of the error term.\n",
        "* `kernel`: Specifies the kernel type to be used in the algorithm.\n",
        "* `gamma`: Kernel coefficient.\n",
        "* `degree`: Degree of the polynomial kernel function.\n"
      ],
      "metadata": {
        "id": "viWhlGTzN_io"
      }
    },
    {
      "cell_type": "markdown",
      "source": [
        "### Randomized Search Cross Validation"
      ],
      "metadata": {
        "id": "qY1inP8wN_io"
      }
    },
    {
      "cell_type": "markdown",
      "source": [
        "We first need to define the grid:"
      ],
      "metadata": {
        "id": "jOKVpb9SN_io"
      }
    },
    {
      "cell_type": "code",
      "execution_count": null,
      "source": [
        "# C\n",
        "C = [.0001, .001, .01]\n",
        "\n",
        "# gamma\n",
        "gamma = [.0001, .001, .01, .1, 1, 10, 100]\n",
        "\n",
        "# degree\n",
        "degree = [1, 2, 3, 4, 5]\n",
        "\n",
        "# kernel\n",
        "kernel = ['linear', 'rbf', 'poly']\n",
        "\n",
        "# probability\n",
        "probability = [True]\n",
        "\n",
        "# Create the random grid\n",
        "random_grid = {'C': C,\n",
        "              'kernel': kernel,\n",
        "              'gamma': gamma,\n",
        "              'degree': degree,\n",
        "              'probability': probability\n",
        "             }\n",
        "\n",
        "pprint(random_grid)"
      ],
      "outputs": [
        {
          "output_type": "stream",
          "name": "stdout",
          "text": [
            "{'C': [0.0001, 0.001, 0.01],\n",
            " 'degree': [1, 2, 3, 4, 5],\n",
            " 'gamma': [0.0001, 0.001, 0.01, 0.1, 1, 10, 100],\n",
            " 'kernel': ['linear', 'rbf', 'poly'],\n",
            " 'probability': [True]}\n"
          ]
        }
      ],
      "metadata": {
        "colab": {
          "base_uri": "https://localhost:8080/"
        },
        "id": "884CEr25N_ip",
        "outputId": "ef41ec6c-930a-497e-d6bf-ffdc2bf50849"
      }
    },
    {
      "cell_type": "markdown",
      "source": [
        "Then, we'll perform the Random Search:"
      ],
      "metadata": {
        "id": "eP6SNKr8N_ip"
      }
    },
    {
      "cell_type": "code",
      "execution_count": null,
      "source": [
        "# First create the base model to tune\n",
        "svc = svm.SVC(random_state=8)\n",
        "\n",
        "# Definition of the random search\n",
        "random_search = RandomizedSearchCV(estimator=svc,\n",
        "                                   param_distributions=random_grid,\n",
        "                                   n_iter=50,\n",
        "                                   scoring='accuracy',\n",
        "                                   cv=3, \n",
        "                                   verbose=1, \n",
        "                                   random_state=8)\n",
        "\n",
        "# Fit the random search model\n",
        "random_search.fit(features_train, labels_train)"
      ],
      "outputs": [
        {
          "output_type": "stream",
          "name": "stdout",
          "text": [
            "Fitting 3 folds for each of 50 candidates, totalling 150 fits\n"
          ]
        },
        {
          "output_type": "stream",
          "name": "stderr",
          "text": [
            "[Parallel(n_jobs=1)]: Using backend SequentialBackend with 1 concurrent workers.\n",
            "[Parallel(n_jobs=1)]: Done 150 out of 150 | elapsed: 11.2min finished\n"
          ]
        },
        {
          "output_type": "execute_result",
          "data": {
            "text/plain": [
              "RandomizedSearchCV(cv=3, error_score=nan,\n",
              "                   estimator=SVC(C=1.0, break_ties=False, cache_size=200,\n",
              "                                 class_weight=None, coef0=0.0,\n",
              "                                 decision_function_shape='ovr', degree=3,\n",
              "                                 gamma='scale', kernel='rbf', max_iter=-1,\n",
              "                                 probability=False, random_state=8,\n",
              "                                 shrinking=True, tol=0.001, verbose=False),\n",
              "                   iid='deprecated', n_iter=50, n_jobs=None,\n",
              "                   param_distributions={'C': [0.0001, 0.001, 0.01],\n",
              "                                        'degree': [1, 2, 3, 4, 5],\n",
              "                                        'gamma': [0.0001, 0.001, 0.01, 0.1, 1,\n",
              "                                                  10, 100],\n",
              "                                        'kernel': ['linear', 'rbf', 'poly'],\n",
              "                                        'probability': [True]},\n",
              "                   pre_dispatch='2*n_jobs', random_state=8, refit=True,\n",
              "                   return_train_score=False, scoring='accuracy', verbose=1)"
            ]
          },
          "metadata": {},
          "execution_count": 11
        }
      ],
      "metadata": {
        "colab": {
          "base_uri": "https://localhost:8080/"
        },
        "id": "f4XBebdpN_iq",
        "outputId": "e416e1ca-f718-4e16-bfa4-7c5e604d7cfc"
      }
    },
    {
      "cell_type": "markdown",
      "source": [
        "We can see the best hyperparameters resulting from the Random Search:"
      ],
      "metadata": {
        "id": "BW7UaXaiN_iq"
      }
    },
    {
      "cell_type": "code",
      "execution_count": null,
      "source": [
        "print(\"The best hyperparameters from Random Search are:\")\n",
        "print(random_search.best_params_)\n",
        "print(\"\")\n",
        "print(\"The mean accuracy of a model with these hyperparameters is:\")\n",
        "print(random_search.best_score_)"
      ],
      "outputs": [
        {
          "output_type": "stream",
          "name": "stdout",
          "text": [
            "The best hyperparameters from Random Search are:\n",
            "{'probability': True, 'kernel': 'poly', 'gamma': 10, 'degree': 4, 'C': 0.01}\n",
            "\n",
            "The mean accuracy of a model with these hyperparameters is:\n",
            "0.9217358857612424\n"
          ]
        }
      ],
      "metadata": {
        "colab": {
          "base_uri": "https://localhost:8080/"
        },
        "id": "VgAwzaJPN_iq",
        "outputId": "b5591ab9-8e1d-46ba-fd75-cce5acb40066"
      }
    },
    {
      "cell_type": "markdown",
      "source": [
        "After that, we can do a more exhaustive search centered in those values:"
      ],
      "metadata": {
        "id": "2W5fBEikN_iq"
      }
    },
    {
      "cell_type": "markdown",
      "source": [
        "### Grid Search Cross Validation"
      ],
      "metadata": {
        "id": "0IdZtge7N_ir"
      }
    },
    {
      "cell_type": "code",
      "execution_count": null,
      "source": [
        "# Create the parameter grid based on the results of random search \n",
        "C = [.0001, .001, .01, .1]\n",
        "degree = [3, 4, 5]\n",
        "gamma = [1, 10, 100]\n",
        "probability = [True]\n",
        "\n",
        "param_grid = [\n",
        "  {'C': C, 'kernel':['linear'], 'probability':probability},\n",
        "  {'C': C, 'kernel':['poly'], 'degree':degree, 'probability':probability},\n",
        "  {'C': C, 'kernel':['rbf'], 'gamma':gamma, 'probability':probability}\n",
        "]\n",
        "\n",
        "# Create a base model\n",
        "svc = svm.SVC(random_state=8)\n",
        "\n",
        "# Manually create the splits in CV in order to be able to fix a random_state (GridSearchCV doesn't have that argument)\n",
        "cv_sets = ShuffleSplit(n_splits = 3, test_size = .33, random_state = 8)\n",
        "\n",
        "# Instantiate the grid search model\n",
        "grid_search = GridSearchCV(estimator=svc, \n",
        "                           param_grid=param_grid,\n",
        "                           scoring='accuracy',\n",
        "                           cv=cv_sets,\n",
        "                           verbose=1)\n",
        "\n",
        "# Fit the grid search to the data\n",
        "grid_search.fit(features_train, labels_train)"
      ],
      "outputs": [
        {
          "output_type": "stream",
          "name": "stdout",
          "text": [
            "Fitting 3 folds for each of 28 candidates, totalling 84 fits\n"
          ]
        },
        {
          "output_type": "stream",
          "name": "stderr",
          "text": [
            "[Parallel(n_jobs=1)]: Using backend SequentialBackend with 1 concurrent workers.\n",
            "[Parallel(n_jobs=1)]: Done  84 out of  84 | elapsed:  6.3min finished\n"
          ]
        },
        {
          "output_type": "execute_result",
          "data": {
            "text/plain": [
              "GridSearchCV(cv=ShuffleSplit(n_splits=3, random_state=8, test_size=0.33, train_size=None),\n",
              "             error_score=nan,\n",
              "             estimator=SVC(C=1.0, break_ties=False, cache_size=200,\n",
              "                           class_weight=None, coef0=0.0,\n",
              "                           decision_function_shape='ovr', degree=3,\n",
              "                           gamma='scale', kernel='rbf', max_iter=-1,\n",
              "                           probability=False, random_state=8, shrinking=True,\n",
              "                           tol=0.001, verbose=False),\n",
              "             iid='deprecated'...one,\n",
              "             param_grid=[{'C': [0.0001, 0.001, 0.01, 0.1], 'kernel': ['linear'],\n",
              "                          'probability': [True]},\n",
              "                         {'C': [0.0001, 0.001, 0.01, 0.1], 'degree': [3, 4, 5],\n",
              "                          'kernel': ['poly'], 'probability': [True]},\n",
              "                         {'C': [0.0001, 0.001, 0.01, 0.1],\n",
              "                          'gamma': [1, 10, 100], 'kernel': ['rbf'],\n",
              "                          'probability': [True]}],\n",
              "             pre_dispatch='2*n_jobs', refit=True, return_train_score=False,\n",
              "             scoring='accuracy', verbose=1)"
            ]
          },
          "metadata": {},
          "execution_count": 13
        }
      ],
      "metadata": {
        "colab": {
          "base_uri": "https://localhost:8080/"
        },
        "id": "TdSpf4-vN_ir",
        "outputId": "c6c3fa3c-418e-4a86-fc68-94963b00314e"
      }
    },
    {
      "cell_type": "markdown",
      "source": [
        "The best hyperparameters turn out to be:"
      ],
      "metadata": {
        "id": "QzLNDK4VN_ir"
      }
    },
    {
      "cell_type": "code",
      "execution_count": null,
      "source": [
        "print(\"The best hyperparameters from Grid Search are:\")\n",
        "print(grid_search.best_params_)\n",
        "print(\"\")\n",
        "print(\"The mean accuracy of a model with these hyperparameters is:\")\n",
        "print(grid_search.best_score_)"
      ],
      "outputs": [
        {
          "output_type": "stream",
          "name": "stdout",
          "text": [
            "The best hyperparameters from Grid Search are:\n",
            "{'C': 0.1, 'kernel': 'linear', 'probability': True}\n",
            "\n",
            "The mean accuracy of a model with these hyperparameters is:\n",
            "0.9498666666666665\n"
          ]
        }
      ],
      "metadata": {
        "scrolled": true,
        "colab": {
          "base_uri": "https://localhost:8080/"
        },
        "id": "19AvQ0qdN_is",
        "outputId": "88f9d08f-825c-481d-9a9d-128cd90c5e0a"
      }
    },
    {
      "cell_type": "markdown",
      "source": [
        "Let's save the model in `best_svc`:"
      ],
      "metadata": {
        "id": "2JSfjAIiN_is"
      }
    },
    {
      "cell_type": "code",
      "execution_count": null,
      "source": [
        "best_svc = grid_search.best_estimator_"
      ],
      "outputs": [],
      "metadata": {
        "id": "qsbkQBVZN_is"
      }
    },
    {
      "cell_type": "code",
      "execution_count": null,
      "source": [
        "best_svc"
      ],
      "outputs": [
        {
          "output_type": "execute_result",
          "data": {
            "text/plain": [
              "SVC(C=0.1, break_ties=False, cache_size=200, class_weight=None, coef0=0.0,\n",
              "    decision_function_shape='ovr', degree=3, gamma='scale', kernel='linear',\n",
              "    max_iter=-1, probability=True, random_state=8, shrinking=True, tol=0.001,\n",
              "    verbose=False)"
            ]
          },
          "metadata": {},
          "execution_count": 16
        }
      ],
      "metadata": {
        "colab": {
          "base_uri": "https://localhost:8080/"
        },
        "id": "gxYG5i-TN_is",
        "outputId": "be0805a9-75f0-4705-c966-0e3ffb2682aa"
      }
    },
    {
      "cell_type": "markdown",
      "source": [
        "We now know the best SVM model. Let's fit it and see how it performs:"
      ],
      "metadata": {
        "id": "L4E4ZhLbN_is"
      }
    },
    {
      "cell_type": "markdown",
      "source": [
        "## Model fit and performance"
      ],
      "metadata": {
        "id": "wXbX6xmiN_is"
      }
    },
    {
      "cell_type": "markdown",
      "source": [
        "Now, we can fit the model to our training data:"
      ],
      "metadata": {
        "id": "TmIGfpEuN_it"
      }
    },
    {
      "cell_type": "code",
      "execution_count": null,
      "source": [
        "best_svc.fit(features_train, labels_train)"
      ],
      "outputs": [
        {
          "output_type": "execute_result",
          "data": {
            "text/plain": [
              "SVC(C=0.1, break_ties=False, cache_size=200, class_weight=None, coef0=0.0,\n",
              "    decision_function_shape='ovr', degree=3, gamma='scale', kernel='linear',\n",
              "    max_iter=-1, probability=True, random_state=8, shrinking=True, tol=0.001,\n",
              "    verbose=False)"
            ]
          },
          "metadata": {},
          "execution_count": 17
        }
      ],
      "metadata": {
        "colab": {
          "base_uri": "https://localhost:8080/"
        },
        "id": "s4kfhybuN_it",
        "outputId": "275bafab-e856-4263-ddc9-d70c84b0a77f"
      }
    },
    {
      "cell_type": "markdown",
      "source": [
        "And get the predictions:"
      ],
      "metadata": {
        "id": "6IR5vVb5N_it"
      }
    },
    {
      "cell_type": "code",
      "execution_count": null,
      "source": [
        "svc_pred = best_svc.predict(features_test)"
      ],
      "outputs": [],
      "metadata": {
        "id": "9SIpL3ShN_it"
      }
    },
    {
      "cell_type": "markdown",
      "source": [
        "The conditional class probabilities can be obtained by typing:\n",
        "\n",
        "`svc_pred = best_svc.predict_proba(features_test)`"
      ],
      "metadata": {
        "id": "obNbMS9AN_it"
      }
    },
    {
      "cell_type": "markdown",
      "source": [
        "For performance analysis, we will use the confusion matrix, the classification report and the accuracy on both training and test data:"
      ],
      "metadata": {
        "id": "yyYPcs6MN_it"
      }
    },
    {
      "cell_type": "markdown",
      "source": [
        "#### Training accuracy"
      ],
      "metadata": {
        "id": "dSA9dHHVN_it"
      }
    },
    {
      "cell_type": "code",
      "execution_count": null,
      "source": [
        "# Training accuracy\n",
        "print(\"The training accuracy is: \")\n",
        "print(accuracy_score(labels_train, best_svc.predict(features_train)))"
      ],
      "outputs": [
        {
          "output_type": "stream",
          "name": "stdout",
          "text": [
            "The training accuracy is: \n",
            "0.9592808038075092\n"
          ]
        }
      ],
      "metadata": {
        "colab": {
          "base_uri": "https://localhost:8080/"
        },
        "id": "GpEmmyL9N_it",
        "outputId": "962c490f-4777-47cd-e444-e79090d3b3ce"
      }
    },
    {
      "cell_type": "markdown",
      "source": [
        "#### Test accuracy"
      ],
      "metadata": {
        "id": "wP5JaFUeN_iu"
      }
    },
    {
      "cell_type": "code",
      "execution_count": null,
      "source": [
        "# Test accuracy\n",
        "print(\"The test accuracy is: \")\n",
        "print(accuracy_score(labels_test, svc_pred))"
      ],
      "outputs": [
        {
          "output_type": "stream",
          "name": "stdout",
          "text": [
            "The test accuracy is: \n",
            "0.9401197604790419\n"
          ]
        }
      ],
      "metadata": {
        "colab": {
          "base_uri": "https://localhost:8080/"
        },
        "id": "apjk3cSaN_iu",
        "outputId": "0e0e7aa7-478f-4a9e-f158-4eeaaa32ad37"
      }
    },
    {
      "cell_type": "markdown",
      "source": [
        "#### Classification report"
      ],
      "metadata": {
        "id": "GwMrMl_-N_iu"
      }
    },
    {
      "cell_type": "code",
      "execution_count": null,
      "source": [
        "# Classification report\n",
        "print(\"Classification report\")\n",
        "print(classification_report(labels_test,svc_pred))"
      ],
      "outputs": [
        {
          "output_type": "stream",
          "name": "stdout",
          "text": [
            "Classification report\n",
            "              precision    recall  f1-score   support\n",
            "\n",
            "           0       0.88      0.98      0.92        81\n",
            "           1       0.96      0.94      0.95        49\n",
            "           2       0.97      0.89      0.93        72\n",
            "           3       0.99      0.99      0.99        72\n",
            "           4       0.93      0.90      0.92        60\n",
            "\n",
            "    accuracy                           0.94       334\n",
            "   macro avg       0.94      0.94      0.94       334\n",
            "weighted avg       0.94      0.94      0.94       334\n",
            "\n"
          ]
        }
      ],
      "metadata": {
        "colab": {
          "base_uri": "https://localhost:8080/"
        },
        "id": "E1hWjiT3N_iu",
        "outputId": "cad198bf-a52f-4996-f5e0-76c2256c0795"
      }
    },
    {
      "cell_type": "markdown",
      "source": [
        "#### Confusion matrix"
      ],
      "metadata": {
        "id": "LXq4ChWwN_iu"
      }
    },
    {
      "cell_type": "code",
      "execution_count": null,
      "source": [
        "aux_df = df[['Category', 'Category_Code']].drop_duplicates().sort_values('Category_Code')\n",
        "conf_matrix = confusion_matrix(labels_test, svc_pred)\n",
        "plt.figure(figsize=(12.8,6))\n",
        "sns.heatmap(conf_matrix, \n",
        "            annot=True,\n",
        "            xticklabels=aux_df['Category'].values, \n",
        "            yticklabels=aux_df['Category'].values,\n",
        "            cmap=\"Blues\")\n",
        "plt.ylabel('Predicted')\n",
        "plt.xlabel('Actual')\n",
        "plt.title('Confusion matrix')\n",
        "plt.show()"
      ],
      "outputs": [
        {
          "output_type": "display_data",
          "data": {
            "image/png": "[encoded data removed]",
            "text/plain": [
              "<Figure size 921.6x432 with 2 Axes>"
            ]
          },
          "metadata": {
            "needs_background": "light"
          }
        }
      ],
      "metadata": {
        "colab": {
          "base_uri": "https://localhost:8080/",
          "height": 404
        },
        "id": "IEdhmcPKN_iu",
        "outputId": "86534637-c5e4-46c9-d50a-c566cfa551f0"
      }
    },
    {
      "cell_type": "markdown",
      "source": [
        "At this point, we could get the average time the model takes to get predictions. We want the algorithm to be fast since we are creating an app which will gather data from the internet and get the predicted categories. However, since the difference when predicting 10-20 observations will be very little, we won't take this into account.\n",
        "\n",
        "However, the code below could do this task:\n",
        "\n",
        "```python\n",
        "features_time = features_train\n",
        "elapsed_list = []\n",
        "for i in range(0,10):\n",
        "    \n",
        "    start = time.time()\n",
        "    predictions = best_lrc.predict(features_time)\n",
        "    end = time.time()\n",
        "    elapsed = end - start\n",
        "    elapsed_list.append(elapsed)\n",
        "\n",
        "mean_time_elapsed = np.mean(elapsed_list)\n",
        "```"
      ],
      "metadata": {
        "id": "7NplgcCsN_iu"
      }
    },
    {
      "cell_type": "markdown",
      "source": [
        "Let's see if the hyperparameter tuning process has returned a better model:"
      ],
      "metadata": {
        "id": "UEyp28HpN_iu"
      }
    },
    {
      "cell_type": "code",
      "execution_count": null,
      "source": [
        "base_model = svm.SVC(random_state = 8)\n",
        "base_model.fit(features_train, labels_train)\n",
        "accuracy_score(labels_test, base_model.predict(features_test))"
      ],
      "outputs": [
        {
          "output_type": "execute_result",
          "data": {
            "text/plain": [
              "0.9550898203592815"
            ]
          },
          "metadata": {},
          "execution_count": 23
        }
      ],
      "metadata": {
        "colab": {
          "base_uri": "https://localhost:8080/"
        },
        "id": "-2WluWTIN_iu",
        "outputId": "beb82f84-b062-4cc8-e710-54c1d21634e4"
      }
    },
    {
      "cell_type": "code",
      "execution_count": null,
      "source": [
        "best_svc.fit(features_train, labels_train)\n",
        "accuracy_score(labels_test, best_svc.predict(features_test))"
      ],
      "outputs": [
        {
          "output_type": "execute_result",
          "data": {
            "text/plain": [
              "0.9401197604790419"
            ]
          },
          "metadata": {},
          "execution_count": 24
        }
      ],
      "metadata": {
        "scrolled": true,
        "colab": {
          "base_uri": "https://localhost:8080/"
        },
        "id": "y3ue5O4XN_iu",
        "outputId": "4ea6c300-7207-406d-9a55-968977b9dbd8"
      }
    },
    {
      "cell_type": "markdown",
      "source": [
        "We'll create a dataset with a model summary to compare models:"
      ],
      "metadata": {
        "id": "hbzLYI_RN_iv"
      }
    },
    {
      "cell_type": "code",
      "execution_count": null,
      "source": [
        "d = {\n",
        "     'Model': 'SVM',\n",
        "     'Training Set Accuracy': accuracy_score(labels_train, best_svc.predict(features_train)),\n",
        "     'Test Set Accuracy': accuracy_score(labels_test, svc_pred)\n",
        "}\n",
        "\n",
        "df_models_svc = pd.DataFrame(d, index=[0])"
      ],
      "outputs": [],
      "metadata": {
        "id": "K0k4vO5HN_iv"
      }
    },
    {
      "cell_type": "code",
      "execution_count": null,
      "source": [
        "df_models_svc"
      ],
      "outputs": [
        {
          "output_type": "execute_result",
          "data": {
            "text/html": [
              "<div>\n",
              "<style scoped>\n",
              "    .dataframe tbody tr th:only-of-type {\n",
              "        vertical-align: middle;\n",
              "    }\n",
              "\n",
              "    .dataframe tbody tr th {\n",
              "        vertical-align: top;\n",
              "    }\n",
              "\n",
              "    .dataframe thead th {\n",
              "        text-align: right;\n",
              "    }\n",
              "</style>\n",
              "<table border=\"1\" class=\"dataframe\">\n",
              "  <thead>\n",
              "    <tr style=\"text-align: right;\">\n",
              "      <th></th>\n",
              "      <th>Model</th>\n",
              "      <th>Training Set Accuracy</th>\n",
              "      <th>Test Set Accuracy</th>\n",
              "    </tr>\n",
              "  </thead>\n",
              "  <tbody>\n",
              "    <tr>\n",
              "      <th>0</th>\n",
              "      <td>SVM</td>\n",
              "      <td>0.959281</td>\n",
              "      <td>0.94012</td>\n",
              "    </tr>\n",
              "  </tbody>\n",
              "</table>\n",
              "</div>"
            ],
            "text/plain": [
              "  Model  Training Set Accuracy  Test Set Accuracy\n",
              "0   SVM               0.959281            0.94012"
            ]
          },
          "metadata": {},
          "execution_count": 26
        }
      ],
      "metadata": {
        "colab": {
          "base_uri": "https://localhost:8080/",
          "height": 80
        },
        "id": "djRvw5umN_iv",
        "outputId": "a6930ac9-ce0e-401c-a348-8419d0cebc5d"
      }
    },
    {
      "cell_type": "markdown",
      "source": [
        "Let's save the model and this dataset:"
      ],
      "metadata": {
        "id": "0ERjymnwN_iv"
      }
    },
    {
      "cell_type": "code",
      "execution_count": null,
      "source": [
        "pathcolab='/content/drive/MyDrive/AI Projects/Feature Engineering/ICE 1/Assignemnt_data//Models/'\n",
        "with open('best_svc.pickle', 'wb') as output:\n",
        "    pickle.dump(best_svc, output)\n",
        "    \n",
        "with open('df_models_svc.pickle', 'wb') as output:\n",
        "    pickle.dump(df_models_svc, output)"
      ],
      "outputs": [],
      "metadata": {
        "id": "iR6ftVT4N_iv"
      }
    },
    {
      "cell_type": "code",
      "execution_count": null,
      "source": [],
      "outputs": [],
      "metadata": {
        "id": "nERqA2PzR_LU"
      }
    }
  ]
}